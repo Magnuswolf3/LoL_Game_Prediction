{
 "cells": [
  {
   "cell_type": "code",
   "execution_count": 1,
   "metadata": {},
   "outputs": [],
   "source": [
    "%matplotlib inline\n",
    "import matplotlib.pyplot as pl\n",
    "import pandas as pd\n",
    "import numpy as np\n",
    "import csv\n",
    "from sklearn.model_selection import train_test_split\n",
    "from sklearn.metrics import mean_squared_error\n",
    "from sklearn.linear_model import LogisticRegression\n",
    "from sklearn.neural_network import MLPClassifier\n",
    "from sklearn.preprocessing import StandardScaler\n",
    "from sklearn.feature_selection import VarianceThreshold\n",
    "from sklearn import tree\n",
    "from sklearn.metrics import confusion_matrix"
   ]
  },
  {
   "cell_type": "markdown",
   "metadata": {},
   "source": [
    "# Pre-Processing\n",
    "#### This function is used to reduce the number of features that are used to train, we simply remove features that are reiterated in a different format"
   ]
  },
  {
   "cell_type": "code",
   "execution_count": 2,
   "metadata": {},
   "outputs": [],
   "source": [
    "def trim_dataset(df, cols):\n",
    "    removable_features = [0,4,8,12,14,15,19,20,23,27,31,33, 34,36,37,38,39]\n",
    "    df = np.delete(df.values, removable_features, axis=1)\n",
    "    cols = np.delete(cols, removable_features)\n",
    "    df = pd.DataFrame(df, columns = cols)\n",
    "    return df,cols"
   ]
  },
  {
   "cell_type": "markdown",
   "metadata": {},
   "source": [
    "#### This function is used to load the information from the dataset into separate groups of features and labels that we will use to train our learning models on"
   ]
  },
  {
   "cell_type": "code",
   "execution_count": 3,
   "metadata": {},
   "outputs": [],
   "source": [
    "def load_dataset(dataset = './datasets/high_diamond_ranked_10min.csv'):\n",
    "    #Reading in of dataset\n",
    "    df = pd.read_csv(dataset)\n",
    "    cols = df.columns\n",
    "    #Trimming down of features we don't need for our end result\n",
    "    [df,cols] = trim_dataset(df, cols)\n",
    "    array = df.to_numpy()\n",
    "    x = array[:,1:]\n",
    "    y = [row[0] for row in array]\n",
    "    x_train, x_test, y_train, y_test = train_test_split(x, y, test_size=0.3, shuffle = False)\n",
    "    return x_train, x_test, y_train, y_test, cols"
   ]
  },
  {
   "cell_type": "markdown",
   "metadata": {},
   "source": [
    "#### Used to standardize our data as our MLP Classifier is sensitive to feature scaling, this can also help with the other learning models"
   ]
  },
  {
   "cell_type": "code",
   "execution_count": 4,
   "metadata": {},
   "outputs": [],
   "source": [
    "def dataset_standardization(x_train, x_test):\n",
    "    scaler = StandardScaler()\n",
    "    scaler.fit(x_train)\n",
    "    x_train = scaler.transform(x_train)\n",
    "    x_test = scaler.transform(x_test)\n",
    "    return x_train, x_test"
   ]
  },
  {
   "cell_type": "markdown",
   "metadata": {},
   "source": [
    "# Learning Models\n",
    "#### Multi-Layered Perceptron"
   ]
  },
  {
   "cell_type": "code",
   "execution_count": 5,
   "metadata": {},
   "outputs": [],
   "source": [
    "def MLP(x_train,x_test,y_train,y_test):\n",
    "    clf = MLPClassifier(solver='sgd', alpha=0.00005,learning_rate='adaptive', learning_rate_init=0.05, hidden_layer_sizes=(2,13,2), random_state=1, max_iter = 5000)\n",
    "    clf.fit(x_train, y_train)\n",
    "    prediction = clf.predict(x_test)\n",
    "    error = mean_squared_error(y_test, prediction)\n",
    "    score = clf.score(x_test, y_test)\n",
    "    return error, score, clf"
   ]
  },
  {
   "cell_type": "markdown",
   "metadata": {},
   "source": [
    "#### Logistic Regression"
   ]
  },
  {
   "cell_type": "code",
   "execution_count": 6,
   "metadata": {},
   "outputs": [],
   "source": [
    "def LR(x_train,x_test,y_train,y_test):\n",
    "    logisticRegr = LogisticRegression(solver='liblinear',C=1.5)\n",
    "    logisticRegr.fit(x_train, y_train)\n",
    "    prediction = logisticRegr.predict(x_test)\n",
    "    error = mean_squared_error(y_test, prediction)\n",
    "    score = logisticRegr.score(x_test, y_test)\n",
    "    return error, score, logisticRegr"
   ]
  },
  {
   "cell_type": "markdown",
   "metadata": {},
   "source": [
    "#### Design Tree"
   ]
  },
  {
   "cell_type": "code",
   "execution_count": 7,
   "metadata": {},
   "outputs": [],
   "source": [
    "def DT(x_train,x_test,y_train,y_test):\n",
    "    clf = tree.DecisionTreeClassifier(splitter='best', max_depth=3)\n",
    "    clf = clf.fit(x_train, y_train)\n",
    "    prediction = clf.predict(x_test)\n",
    "    error = mean_squared_error(y_test, prediction)\n",
    "    score = clf.score(x_test, y_test)\n",
    "    return error, score, clf"
   ]
  },
  {
   "cell_type": "markdown",
   "metadata": {},
   "source": [
    "# Main "
   ]
  },
  {
   "cell_type": "code",
   "execution_count": 8,
   "metadata": {},
   "outputs": [],
   "source": [
    "[x_train, x_test, y_train, y_test, info] = load_dataset()"
   ]
  },
  {
   "cell_type": "code",
   "execution_count": 9,
   "metadata": {},
   "outputs": [],
   "source": [
    "[x_train, x_test] = dataset_standardization(x_train, x_test)"
   ]
  },
  {
   "cell_type": "code",
   "execution_count": 10,
   "metadata": {},
   "outputs": [
    {
     "name": "stdout",
     "output_type": "stream",
     "text": [
      "Using a Multilayer Perceptron to learn results in 73.85290148448043 % accuracy of predictions\n"
     ]
    }
   ],
   "source": [
    "[MLP_error, MLP_accuracy, MLP_clf] = MLP(x_train,x_test,y_train,y_test)\n",
    "print(\"Using a Multilayer Perceptron to learn results in\",MLP_accuracy*100,\"% accuracy of predictions\")"
   ]
  },
  {
   "cell_type": "code",
   "execution_count": 11,
   "metadata": {},
   "outputs": [
    {
     "name": "stdout",
     "output_type": "stream",
     "text": [
      "Using Logistic Regression to learn results in 73.3468286099865 % accuracy of predictions\n"
     ]
    }
   ],
   "source": [
    "[LR_error, LR_accuracy, LR_clf] = LR(x_train,x_test,y_train,y_test)\n",
    "print(\"Using Logistic Regression to learn results in\",LR_accuracy*100,\"% accuracy of predictions\")"
   ]
  },
  {
   "cell_type": "code",
   "execution_count": 12,
   "metadata": {},
   "outputs": [
    {
     "name": "stdout",
     "output_type": "stream",
     "text": [
      "Using a Decision Tree to learn results in 73.31309041835358 % accuracy of predictions\n"
     ]
    }
   ],
   "source": [
    "[DT_error, DT_accuracy, DT_clf] = DT(x_train,x_test,y_train,y_test)\n",
    "print(\"Using a Decision Tree to learn results in\",DT_accuracy*100,\"% accuracy of predictions\")"
   ]
  },
  {
   "cell_type": "markdown",
   "metadata": {},
   "source": [
    "# Further Result Display"
   ]
  },
  {
   "cell_type": "code",
   "execution_count": 13,
   "metadata": {
    "scrolled": true
   },
   "outputs": [
    {
     "data": {
      "image/png": "[encoded data removed]",
      "text/plain": [
       "<Figure size 432x288 with 1 Axes>"
      ]
     },
     "metadata": {
      "needs_background": "light"
     },
     "output_type": "display_data"
    }
   ],
   "source": [
    "pl.plot(MLP_clf.loss_curve_)\n",
    "pl.title(\"Loss Curve for Multi-Layered Perceptron\")\n",
    "pl.xlabel(\"No. of Iterations\")\n",
    "pl.ylabel(\"Loss\")\n",
    "pl.show(block=False)"
   ]
  },
  {
   "cell_type": "code",
   "execution_count": 14,
   "metadata": {},
   "outputs": [
    {
     "name": "stdout",
     "output_type": "stream",
     "text": [
      "[[1104  394]\n",
      " [ 381 1085]]\n"
     ]
    }
   ],
   "source": [
    "print(confusion_matrix(y_test,MLP_clf.predict(x_test)))"
   ]
  },
  {
   "cell_type": "markdown",
   "metadata": {},
   "source": [
    "#### Testing the importance of certain features by having all other features the same except for the one being tested, in this case the importance of gold and experience difference. Negative values result in a loss for the blue team, the opposite is also true"
   ]
  },
  {
   "cell_type": "code",
   "execution_count": 15,
   "metadata": {},
   "outputs": [],
   "source": [
    "CaseTesting = [[14,2,5,5,5,0,0,0,6.6,30,-300,-100,14,2,5,5,5,0,0,0,6.6,30]]\n",
    "[x_train, CaseTesting] = dataset_standardization(x_train, CaseTesting)"
   ]
  },
  {
   "cell_type": "code",
   "execution_count": 16,
   "metadata": {},
   "outputs": [
    {
     "data": {
      "text/plain": [
       "array([0.])"
      ]
     },
     "execution_count": 16,
     "metadata": {},
     "output_type": "execute_result"
    }
   ],
   "source": [
    "MLP_clf.predict(CaseTesting)"
   ]
  },
  {
   "cell_type": "markdown",
   "metadata": {},
   "source": [
    "#### Here, having more kills and assists while having lower deaths results in the blue team winning the game according to the model"
   ]
  },
  {
   "cell_type": "code",
   "execution_count": 17,
   "metadata": {},
   "outputs": [],
   "source": [
    "CaseTesting = [[14,2,20,5,30,0,0,0,6.6,30,0,0,14,2,5,20,5,0,0,0,6.6,30]]\n",
    "[x_train, CaseTesting] = dataset_standardization(x_train, CaseTesting)"
   ]
  },
  {
   "cell_type": "code",
   "execution_count": 18,
   "metadata": {},
   "outputs": [
    {
     "data": {
      "text/plain": [
       "array([1.])"
      ]
     },
     "execution_count": 18,
     "metadata": {},
     "output_type": "execute_result"
    }
   ],
   "source": [
    "MLP_clf.predict(CaseTesting)"
   ]
  },
  {
   "cell_type": "markdown",
   "metadata": {},
   "source": [
    "#### Here, having more objectives achieved (i.e Dragon, Herald Captured and Towers Taken), results in the blue team winning the game according to the model"
   ]
  },
  {
   "cell_type": "code",
   "execution_count": 31,
   "metadata": {},
   "outputs": [],
   "source": [
    "CaseTesting = [[14,2,5,5,5,1,1,1,6.6,30,0,0,14,2,5,5,5,0,0,0,6.6,30]]\n",
    "[x_train, CaseTesting] = dataset_standardization(x_train, CaseTesting)"
   ]
  },
  {
   "cell_type": "code",
   "execution_count": 32,
   "metadata": {},
   "outputs": [
    {
     "data": {
      "text/plain": [
       "array([1.])"
      ]
     },
     "execution_count": 32,
     "metadata": {},
     "output_type": "execute_result"
    }
   ],
   "source": [
    "MLP_clf.predict(CaseTesting)"
   ]
  },
  {
   "cell_type": "code",
   "execution_count": null,
   "metadata": {},
   "outputs": [],
   "source": []
  },
  {
   "cell_type": "code",
   "execution_count": null,
   "metadata": {},
   "outputs": [],
   "source": []
  },
  {
   "cell_type": "code",
   "execution_count": null,
   "metadata": {},
   "outputs": [],
   "source": []
  },
  {
   "cell_type": "code",
   "execution_count": null,
   "metadata": {},
   "outputs": [],
   "source": []
  }
 ],
 "metadata": {
  "kernelspec": {
   "display_name": "Python 3",
   "language": "python",
   "name": "python3"
  },
  "language_info": {
   "codemirror_mode": {
    "name": "ipython",
    "version": 3
   },
   "file_extension": ".py",
   "mimetype": "text/x-python",
   "name": "python",
   "nbconvert_exporter": "python",
   "pygments_lexer": "ipython3",
   "version": "3.7.4"
  }
 },
 "nbformat": 4,
 "nbformat_minor": 2
}
